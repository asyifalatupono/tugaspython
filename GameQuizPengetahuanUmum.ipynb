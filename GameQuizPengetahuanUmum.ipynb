{
 "cells": [
  {
   "cell_type": "code",
   "execution_count": 1,
   "metadata": {},
   "outputs": [
    {
     "name": "stdout",
     "output_type": "stream",
     "text": [
      "GAME QUIZ PENGETAHUAN UMUM\n",
      "\n",
      "SIAPAKAH PENEMU TELEPON GENGGAM?\n",
      "a. Alexander Graham Bell\n",
      "b. Albert Einstein\n",
      "c. Thomas Alva Edison\n",
      "d. Martin Cooper\n",
      "\n"
     ]
    },
    {
     "name": "stdin",
     "output_type": "stream",
     "text": [
      "Silahkan pilih jawaban anda a,b,c atau d\n",
      " d\n",
      "JAWABAN BENAR\n",
      "Apakah kamu ingin mencoba soal bonus?\n",
      "Tekan 'y' jika ya dan 'n' jika tidak.\n",
      " y\n"
     ]
    },
    {
     "name": "stdout",
     "output_type": "stream",
     "text": [
      "\n",
      "\n",
      "PLANET YANG BERADA DI URUTAN KETIGA DALAM SISTEM TATA SURYA BERNAMA?\n",
      "a. Bumi\n",
      "b. Pluto\n",
      "c. Venus\n",
      "d. Saturnus\n"
     ]
    },
    {
     "name": "stdin",
     "output_type": "stream",
     "text": [
      "\n",
      "Silahkan pilih jawaban anda a,b, atau d\n",
      " a\n"
     ]
    }
   ],
   "source": [
    "print(\"GAME QUIZ PENGETAHUAN UMUM\\n\")\n",
    "\n",
    "\n",
    "question1 = \"SIAPAKAH PENEMU TELEPON GENGGAM?\"\n",
    "\n",
    "options1 = \"a. Alexander Graham Bell\\nb. Albert Einstein\\nc. Thomas Alva Edison\\nd. Martin Cooper\\n\"\n",
    "\n",
    "print(question1)\n",
    "\n",
    "print(options1)\n",
    "\n",
    "\n",
    "\n",
    "while True:\n",
    "\n",
    "    response = input(\"Silahkan pilih jawaban anda a,b,c atau d\\n\")\n",
    "\n",
    "\n",
    "\n",
    "    if response == \"d\":\n",
    "\n",
    "        break\n",
    "\n",
    "    else:\n",
    "        print(\"\\n\\nJAWABAN ANDA KURANG TEPAT, coba lagi !!!\")\n",
    "\n",
    "        while True:\n",
    "            response = input(\"Silahkan pilih jawaban anda a,b, atau d\\n\")\n",
    "            if response == \"d\":\n",
    "                stop = True\n",
    "                break\n",
    "            else:\n",
    "                print(\"\\n\\nJAWABAN ANDA KURANG TEPAT, coba lagi !!!\")\n",
    "                stop = True\n",
    "                break\n",
    "        if stop:\n",
    "            break\n",
    "while True:\n",
    "    bonus = input(\"JAWABAN BENAR\\nApakah kamu ingin mencoba soal bonus?\\nTekan 'y' jika ya dan 'n' jika tidak.\\n\")\n",
    "\n",
    "    if bonus == \"y\":\n",
    "        print(\"\\n\\nPLANET YANG BERADA DI URUTAN KETIGA DALAM SISTEM TATA SURYA BERNAMA?\")\n",
    "        print(\"a. Bumi\\nb. Pluto\\nc. Venus\\nd. Saturnus\")\n",
    "\n",
    "        while True:\n",
    "            response = input(\"\\nSilahkan pilih jawaban anda a,b, atau d\\n\")\n",
    "\n",
    "            if response == \"a\":\n",
    "                break\n",
    "            else:\n",
    "                print(\"Jawaban anda salah, coba lagi !!!\")\n",
    "\n",
    "            while True:\n",
    "                response = input(\"\\n\\nJAWABAN ANDA KURANG TEPAT, coba lagi !!!\")\n",
    "\n",
    "                if response == \"a\":\n",
    "                    stop = True\n",
    "                    break\n",
    "                else:\n",
    "                    print(\"jawaban anda belum benar !!, anda telah melampaui batas percobaan\")\n",
    "                    stop = True\n",
    "                    break\n",
    "            if stop:\n",
    "                break\n",
    "        break\n",
    "    elif bonus == \"n\":\n",
    "        break\n",
    "    else:\n",
    "        print(\"MAAF !!, SILAHKAN TEKAN 'y' ATAU 'N' UNTUK JAWABAN ANDA\")\n",
    " "
   ]
  },
  {
   "cell_type": "code",
   "execution_count": null,
   "metadata": {},
   "outputs": [],
   "source": []
  }
 ],
 "metadata": {
  "kernelspec": {
   "display_name": "Python 3",
   "language": "python",
   "name": "python3"
  },
  "language_info": {
   "codemirror_mode": {
    "name": "ipython",
    "version": 3
   },
   "file_extension": ".py",
   "mimetype": "text/x-python",
   "name": "python",
   "nbconvert_exporter": "python",
   "pygments_lexer": "ipython3",
   "version": "3.7.4"
  }
 },
 "nbformat": 4,
 "nbformat_minor": 4
}
